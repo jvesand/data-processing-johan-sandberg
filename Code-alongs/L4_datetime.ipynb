{
 "cells": [
  {
   "cell_type": "markdown",
   "metadata": {},
   "source": [
    "# `Datetime`"
   ]
  },
  {
   "cell_type": "code",
   "execution_count": 8,
   "metadata": {},
   "outputs": [
    {
     "name": "stdout",
     "output_type": "stream",
     "text": [
      "2022-11-08 09:53:04.089016\n"
     ]
    },
    {
     "data": {
      "text/plain": [
       "datetime.datetime(2022, 11, 8, 9, 53, 4, 89016)"
      ]
     },
     "execution_count": 8,
     "metadata": {},
     "output_type": "execute_result"
    }
   ],
   "source": [
    "from datetime import datetime\n",
    "\n",
    "now = datetime.now()\n",
    "# format: year-month-day hour:minute:seconds.microseconds\n",
    "print(now)\n",
    "now"
   ]
  },
  {
   "cell_type": "code",
   "execution_count": 14,
   "metadata": {},
   "outputs": [
    {
     "name": "stdout",
     "output_type": "stream",
     "text": [
      "Todays date is 2022-11-08\n",
      "Todays date is Tuesday\n",
      "Todays date is (abbrev) Tue\n",
      "Todays date is 45\n"
     ]
    }
   ],
   "source": [
    "# https://strftime.org/\n",
    "# strftime: datetime -> string\n",
    "print(f\"Todays date is {now.date()}\")\n",
    "print(f\"Todays date is {now.strftime('%A')}\")\n",
    "print(f\"Todays date is (abbrev) {now.strftime('%a')}\")\n",
    "print(f\"Todays date is {now.strftime('%W')}\")"
   ]
  },
  {
   "cell_type": "code",
   "execution_count": 16,
   "metadata": {},
   "outputs": [
    {
     "name": "stdout",
     "output_type": "stream",
     "text": [
      "2024-05-25 00:00:00\n"
     ]
    },
    {
     "data": {
      "text/plain": [
       "datetime.datetime(2024, 5, 25, 0, 0)"
      ]
     },
     "execution_count": 16,
     "metadata": {},
     "output_type": "execute_result"
    }
   ],
   "source": [
    "# strptime: str -> date\n",
    "graduation_date = \"25/5-2024\"\n",
    "graduation_date = datetime.strptime(graduation_date, \"%d/%m-%Y\")\n",
    "print(graduation_date)\n",
    "graduation_date"
   ]
  },
  {
   "cell_type": "code",
   "execution_count": 26,
   "metadata": {},
   "outputs": [
    {
     "name": "stdout",
     "output_type": "stream",
     "text": [
      "563 days, 14:06:55.910984\n"
     ]
    },
    {
     "data": {
      "text/plain": [
       "datetime.timedelta(days=563, seconds=50815, microseconds=910984)"
      ]
     },
     "execution_count": 26,
     "metadata": {},
     "output_type": "execute_result"
    }
   ],
   "source": [
    "remaining_time = graduation_date - now\n",
    "print(remaining_time)\n",
    "remaining_time # timedelta object"
   ]
  },
  {
   "cell_type": "code",
   "execution_count": 29,
   "metadata": {},
   "outputs": [
    {
     "data": {
      "text/plain": [
       "'Week: 51, day: Sat'"
      ]
     },
     "execution_count": 29,
     "metadata": {},
     "output_type": "execute_result"
    }
   ],
   "source": [
    "christmas_str = \"2022-12-24\"\n",
    "christmas_date = datetime.strptime(christmas_str, \"%Y-%m-%d\")\n",
    "christmas_date.strftime(\"Week: %W, day: %a\")"
   ]
  }
 ],
 "metadata": {
  "kernelspec": {
   "display_name": "Python 3.9.13 ('data-processing-johan-sandberg-8ymr_x9o')",
   "language": "python",
   "name": "python3"
  },
  "language_info": {
   "codemirror_mode": {
    "name": "ipython",
    "version": 3
   },
   "file_extension": ".py",
   "mimetype": "text/x-python",
   "name": "python",
   "nbconvert_exporter": "python",
   "pygments_lexer": "ipython3",
   "version": "3.9.13"
  },
  "orig_nbformat": 4,
  "vscode": {
   "interpreter": {
    "hash": "d34c42a1ac2d30fd80a7b359e50059b74d1b9c793e7682de9181caa85b784bae"
   }
  }
 },
 "nbformat": 4,
 "nbformat_minor": 2
}
