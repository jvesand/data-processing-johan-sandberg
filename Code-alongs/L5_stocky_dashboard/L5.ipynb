{
 "cells": [
  {
   "cell_type": "code",
   "execution_count": 1,
   "metadata": {},
   "outputs": [],
   "source": [
    "import dash\n",
    "import dash_bootstrap_components as dbc\n",
    "import os\n",
    "from load_data import StockData\n",
    "from dash import html, dcc # dcc - dash core components\n",
    "from dash.dependencies import Output, Input\n",
    "import plotly_express as px"
   ]
  },
  {
   "cell_type": "code",
   "execution_count": 8,
   "metadata": {},
   "outputs": [],
   "source": [
    "path = \"./stocks_data/\"\n",
    "\n",
    "stock_data_object = StockData(path)"
   ]
  },
  {
   "cell_type": "code",
   "execution_count": 14,
   "metadata": {},
   "outputs": [
    {
     "data": {
      "text/plain": [
       "[               open    high     low   close  adjusted_close     volume  \\\n",
       " Date                                                                     \n",
       " 2022-11-04  142.090  142.67  134.38  138.38      138.380000  140814796   \n",
       " 2022-11-03  142.060  142.80  138.75  138.88      138.649552   97918516   \n",
       " 2022-11-02  148.945  152.17  145.00  145.03      144.789347   93604623   \n",
       " 2022-11-01  155.080  155.45  149.13  150.65      150.400022   80379345   \n",
       " 2022-10-31  153.155  154.24  151.92  153.34      153.085558   97943171   \n",
       " ...             ...     ...     ...     ...             ...        ...   \n",
       " 1999-11-05   84.620   88.37   84.00   88.31        0.672034    3721500   \n",
       " 1999-11-04   82.060   85.37   80.62   83.62        0.636344    3384700   \n",
       " 1999-11-03   81.620   83.25   81.00   81.50        0.620210    2932700   \n",
       " 1999-11-02   78.000   81.69   77.31   80.25        0.610698    3564600   \n",
       " 1999-11-01   80.000   80.69   77.37   77.62        0.590684    2487300   \n",
       " \n",
       "             dividend_amount  split_coefficient  \n",
       " Date                                            \n",
       " 2022-11-04             0.23                1.0  \n",
       " 2022-11-03             0.00                1.0  \n",
       " 2022-11-02             0.00                1.0  \n",
       " 2022-11-01             0.00                1.0  \n",
       " 2022-10-31             0.00                1.0  \n",
       " ...                     ...                ...  \n",
       " 1999-11-05             0.00                1.0  \n",
       " 1999-11-04             0.00                1.0  \n",
       " 1999-11-03             0.00                1.0  \n",
       " 1999-11-02             0.00                1.0  \n",
       " 1999-11-01             0.00                1.0  \n",
       " \n",
       " [5792 rows x 8 columns],\n",
       "                            open        high         low       close    volume\n",
       " Date                                                                         \n",
       " 2022-11-04 20:00:00  138.220000  138.220000  138.070000  138.120000     64681\n",
       " 2022-11-04 19:00:00  138.190000  138.240000  138.130000  138.230000     38808\n",
       " 2022-11-04 18:00:00  138.200000  138.300000  138.070000  138.213800    116813\n",
       " 2022-11-04 17:00:00  138.390000  138.620000  138.120000  138.240000   3410067\n",
       " 2022-11-04 16:00:00  136.770000  138.500000  136.620000  138.390000  20985511\n",
       " ...                         ...         ...         ...         ...       ...\n",
       " 2022-10-10 09:00:00  139.907461  140.566366  139.579506  140.566366    326996\n",
       " 2022-10-10 08:00:00  139.717776  140.167030  139.667859  139.947395    181406\n",
       " 2022-10-10 07:00:00  139.717776  139.847561  139.607959  139.697810     89678\n",
       " 2022-10-10 06:00:00  139.028921  139.667859  139.028921  139.667859     31362\n",
       " 2022-10-10 05:00:00  139.717776  139.717776  138.669519  139.008955     85613\n",
       " \n",
       " [320 rows x 5 columns]]"
      ]
     },
     "execution_count": 14,
     "metadata": {},
     "output_type": "execute_result"
    }
   ],
   "source": [
    "# pick one stock\n",
    "stock_data_object.stock_dataframe(\"AAPL\")"
   ]
  },
  {
   "cell_type": "code",
   "execution_count": 22,
   "metadata": {},
   "outputs": [
    {
     "data": {
      "text/plain": [
       "2"
      ]
     },
     "execution_count": 22,
     "metadata": {},
     "output_type": "execute_result"
    }
   ],
   "source": [
    "symbol_dict = {\"AAPL\": \"Apple\", \"NVDA\": \"Nvidia\", \"TSLA\": \"Tesla\", \"IBM\": \"IBM\"}\n",
    "# create dictionary of dataframes (dictionary of lists of dataframes)\n",
    "df_dict = {symbol: stock_data_object.stock_dataframe(symbol) for symbol in symbol_dict} # dict loop takes keys, if want values do .items()\n",
    "len(df_dict[\"AAPL\"])"
   ]
  },
  {
   "cell_type": "code",
   "execution_count": null,
   "metadata": {},
   "outputs": [],
   "source": []
  }
 ],
 "metadata": {
  "kernelspec": {
   "display_name": "Python 3.9.15 ('data-processing-johan-sandberg-8ymr_x9o')",
   "language": "python",
   "name": "python3"
  },
  "language_info": {
   "codemirror_mode": {
    "name": "ipython",
    "version": 3
   },
   "file_extension": ".py",
   "mimetype": "text/x-python",
   "name": "python",
   "nbconvert_exporter": "python",
   "pygments_lexer": "ipython3",
   "version": "3.9.15"
  },
  "orig_nbformat": 4,
  "vscode": {
   "interpreter": {
    "hash": "d34c42a1ac2d30fd80a7b359e50059b74d1b9c793e7682de9181caa85b784bae"
   }
  }
 },
 "nbformat": 4,
 "nbformat_minor": 2
}
