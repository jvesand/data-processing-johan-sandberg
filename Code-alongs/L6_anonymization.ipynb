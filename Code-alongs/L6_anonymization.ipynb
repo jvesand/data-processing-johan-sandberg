{
 "cells": [
  {
   "cell_type": "markdown",
   "metadata": {},
   "source": [
    "# Example with Pandas"
   ]
  },
  {
   "cell_type": "code",
   "execution_count": 2,
   "metadata": {},
   "outputs": [
    {
     "data": {
      "text/html": [
       "<div>\n",
       "<style scoped>\n",
       "    .dataframe tbody tr th:only-of-type {\n",
       "        vertical-align: middle;\n",
       "    }\n",
       "\n",
       "    .dataframe tbody tr th {\n",
       "        vertical-align: top;\n",
       "    }\n",
       "\n",
       "    .dataframe thead th {\n",
       "        text-align: right;\n",
       "    }\n",
       "</style>\n",
       "<table border=\"1\" class=\"dataframe\">\n",
       "  <thead>\n",
       "    <tr style=\"text-align: right;\">\n",
       "      <th></th>\n",
       "      <th>CLIENTNUM</th>\n",
       "      <th>Attrition_Flag</th>\n",
       "      <th>Customer_Age</th>\n",
       "      <th>Gender</th>\n",
       "      <th>Total_Trans_Amt</th>\n",
       "    </tr>\n",
       "  </thead>\n",
       "  <tbody>\n",
       "    <tr>\n",
       "      <th>0</th>\n",
       "      <td>768805383</td>\n",
       "      <td>Existing Customer</td>\n",
       "      <td>45</td>\n",
       "      <td>M</td>\n",
       "      <td>1144</td>\n",
       "    </tr>\n",
       "    <tr>\n",
       "      <th>1</th>\n",
       "      <td>818770008</td>\n",
       "      <td>Existing Customer</td>\n",
       "      <td>49</td>\n",
       "      <td>F</td>\n",
       "      <td>1291</td>\n",
       "    </tr>\n",
       "    <tr>\n",
       "      <th>2</th>\n",
       "      <td>713982108</td>\n",
       "      <td>Existing Customer</td>\n",
       "      <td>51</td>\n",
       "      <td>M</td>\n",
       "      <td>1887</td>\n",
       "    </tr>\n",
       "    <tr>\n",
       "      <th>3</th>\n",
       "      <td>769911858</td>\n",
       "      <td>Existing Customer</td>\n",
       "      <td>40</td>\n",
       "      <td>F</td>\n",
       "      <td>1171</td>\n",
       "    </tr>\n",
       "    <tr>\n",
       "      <th>4</th>\n",
       "      <td>709106358</td>\n",
       "      <td>Existing Customer</td>\n",
       "      <td>40</td>\n",
       "      <td>M</td>\n",
       "      <td>816</td>\n",
       "    </tr>\n",
       "  </tbody>\n",
       "</table>\n",
       "</div>"
      ],
      "text/plain": [
       "   CLIENTNUM     Attrition_Flag  Customer_Age Gender  Total_Trans_Amt\n",
       "0  768805383  Existing Customer            45      M             1144\n",
       "1  818770008  Existing Customer            49      F             1291\n",
       "2  713982108  Existing Customer            51      M             1887\n",
       "3  769911858  Existing Customer            40      F             1171\n",
       "4  709106358  Existing Customer            40      M              816"
      ]
     },
     "execution_count": 2,
     "metadata": {},
     "output_type": "execute_result"
    }
   ],
   "source": [
    "import hashlib as hl\n",
    "import pandas as pd\n",
    "\n",
    "df = pd.read_csv(\"../Data/BankChurners.csv\", usecols = [\"CLIENTNUM\", \"Attrition_Flag\", \"Customer_Age\", \"Gender\", \"Total_Trans_Amt\"])\n",
    "df.head()"
   ]
  },
  {
   "cell_type": "code",
   "execution_count": 3,
   "metadata": {},
   "outputs": [
    {
     "data": {
      "text/plain": [
       "0        768805383\n",
       "1        818770008\n",
       "2        713982108\n",
       "3        769911858\n",
       "4        709106358\n",
       "           ...    \n",
       "10122    772366833\n",
       "10123    710638233\n",
       "10124    716506083\n",
       "10125    717406983\n",
       "10126    714337233\n",
       "Name: CLIENTNUM, Length: 10127, dtype: int64"
      ]
     },
     "execution_count": 3,
     "metadata": {},
     "output_type": "execute_result"
    }
   ],
   "source": [
    "df[\"CLIENTNUM\"]"
   ]
  },
  {
   "cell_type": "code",
   "execution_count": 4,
   "metadata": {},
   "outputs": [
    {
     "name": "stdout",
     "output_type": "stream",
     "text": [
      "<class 'pandas.core.frame.DataFrame'>\n",
      "RangeIndex: 10127 entries, 0 to 10126\n",
      "Data columns (total 5 columns):\n",
      " #   Column           Non-Null Count  Dtype \n",
      "---  ------           --------------  ----- \n",
      " 0   CLIENTNUM        10127 non-null  object\n",
      " 1   Attrition_Flag   10127 non-null  object\n",
      " 2   Customer_Age     10127 non-null  int64 \n",
      " 3   Gender           10127 non-null  object\n",
      " 4   Total_Trans_Amt  10127 non-null  int64 \n",
      "dtypes: int64(2), object(3)\n",
      "memory usage: 395.7+ KB\n"
     ]
    }
   ],
   "source": [
    "# hashlib needs a string as input to hash\n",
    "df[\"CLIENTNUM\"] = df[\"CLIENTNUM\"].astype(str)\n",
    "df.info()"
   ]
  },
  {
   "cell_type": "code",
   "execution_count": 10,
   "metadata": {},
   "outputs": [
    {
     "data": {
      "text/plain": [
       "0    c9bbef56f9d8292cb3cfa8ae91f9b9167390e6e4b514d5...\n",
       "1    7996e2340d70489252370a5df035ec99381c8344cc3511...\n",
       "2    6fb53dbc743724e086243b5bc288df62b4a6dc1b8bde92...\n",
       "3    f86b86a1047317685f29c399059b199858685faf5ec6a8...\n",
       "4    0d239470b0cb57e110cf60bc3865344ee2cdced6e3acdc...\n",
       "Name: CLIENTNUM, dtype: object"
      ]
     },
     "execution_count": 10,
     "metadata": {},
     "output_type": "execute_result"
    }
   ],
   "source": [
    "# apply() applies function to every value in the Series\n",
    "# .encode() because hashlib needs a certain format?\n",
    "hashes_clientnum = df[\"CLIENTNUM\"].apply(lambda x: hl.sha256(x.encode()).hexdigest())\n",
    "hashes_clientnum.head()"
   ]
  },
  {
   "cell_type": "code",
   "execution_count": 11,
   "metadata": {},
   "outputs": [
    {
     "data": {
      "text/html": [
       "<div>\n",
       "<style scoped>\n",
       "    .dataframe tbody tr th:only-of-type {\n",
       "        vertical-align: middle;\n",
       "    }\n",
       "\n",
       "    .dataframe tbody tr th {\n",
       "        vertical-align: top;\n",
       "    }\n",
       "\n",
       "    .dataframe thead th {\n",
       "        text-align: right;\n",
       "    }\n",
       "</style>\n",
       "<table border=\"1\" class=\"dataframe\">\n",
       "  <thead>\n",
       "    <tr style=\"text-align: right;\">\n",
       "      <th></th>\n",
       "      <th>CLIENTNUM</th>\n",
       "      <th>Hash_clientnum</th>\n",
       "      <th>Attrition_Flag</th>\n",
       "      <th>Customer_Age</th>\n",
       "      <th>Gender</th>\n",
       "      <th>Total_Trans_Amt</th>\n",
       "    </tr>\n",
       "  </thead>\n",
       "  <tbody>\n",
       "    <tr>\n",
       "      <th>0</th>\n",
       "      <td>768805383</td>\n",
       "      <td>c9bbef56f9d8292cb3cfa8ae91f9b9167390e6e4b514d5...</td>\n",
       "      <td>Existing Customer</td>\n",
       "      <td>45</td>\n",
       "      <td>M</td>\n",
       "      <td>1144</td>\n",
       "    </tr>\n",
       "    <tr>\n",
       "      <th>1</th>\n",
       "      <td>818770008</td>\n",
       "      <td>7996e2340d70489252370a5df035ec99381c8344cc3511...</td>\n",
       "      <td>Existing Customer</td>\n",
       "      <td>49</td>\n",
       "      <td>F</td>\n",
       "      <td>1291</td>\n",
       "    </tr>\n",
       "    <tr>\n",
       "      <th>2</th>\n",
       "      <td>713982108</td>\n",
       "      <td>6fb53dbc743724e086243b5bc288df62b4a6dc1b8bde92...</td>\n",
       "      <td>Existing Customer</td>\n",
       "      <td>51</td>\n",
       "      <td>M</td>\n",
       "      <td>1887</td>\n",
       "    </tr>\n",
       "    <tr>\n",
       "      <th>3</th>\n",
       "      <td>769911858</td>\n",
       "      <td>f86b86a1047317685f29c399059b199858685faf5ec6a8...</td>\n",
       "      <td>Existing Customer</td>\n",
       "      <td>40</td>\n",
       "      <td>F</td>\n",
       "      <td>1171</td>\n",
       "    </tr>\n",
       "    <tr>\n",
       "      <th>4</th>\n",
       "      <td>709106358</td>\n",
       "      <td>0d239470b0cb57e110cf60bc3865344ee2cdced6e3acdc...</td>\n",
       "      <td>Existing Customer</td>\n",
       "      <td>40</td>\n",
       "      <td>M</td>\n",
       "      <td>816</td>\n",
       "    </tr>\n",
       "  </tbody>\n",
       "</table>\n",
       "</div>"
      ],
      "text/plain": [
       "   CLIENTNUM                                     Hash_clientnum  \\\n",
       "0  768805383  c9bbef56f9d8292cb3cfa8ae91f9b9167390e6e4b514d5...   \n",
       "1  818770008  7996e2340d70489252370a5df035ec99381c8344cc3511...   \n",
       "2  713982108  6fb53dbc743724e086243b5bc288df62b4a6dc1b8bde92...   \n",
       "3  769911858  f86b86a1047317685f29c399059b199858685faf5ec6a8...   \n",
       "4  709106358  0d239470b0cb57e110cf60bc3865344ee2cdced6e3acdc...   \n",
       "\n",
       "      Attrition_Flag  Customer_Age Gender  Total_Trans_Amt  \n",
       "0  Existing Customer            45      M             1144  \n",
       "1  Existing Customer            49      F             1291  \n",
       "2  Existing Customer            51      M             1887  \n",
       "3  Existing Customer            40      F             1171  \n",
       "4  Existing Customer            40      M              816  "
      ]
     },
     "execution_count": 11,
     "metadata": {},
     "output_type": "execute_result"
    }
   ],
   "source": [
    "# .insert() good to know.........\n",
    "df.insert(1, \"Hash_clientnum\", hashes_clientnum)\n",
    "df.head()"
   ]
  }
 ],
 "metadata": {
  "kernelspec": {
   "display_name": "Python 3.9.15 ('data-processing-johan-sandberg-8ymr_x9o')",
   "language": "python",
   "name": "python3"
  },
  "language_info": {
   "codemirror_mode": {
    "name": "ipython",
    "version": 3
   },
   "file_extension": ".py",
   "mimetype": "text/x-python",
   "name": "python",
   "nbconvert_exporter": "python",
   "pygments_lexer": "ipython3",
   "version": "3.9.15"
  },
  "orig_nbformat": 4,
  "vscode": {
   "interpreter": {
    "hash": "d34c42a1ac2d30fd80a7b359e50059b74d1b9c793e7682de9181caa85b784bae"
   }
  }
 },
 "nbformat": 4,
 "nbformat_minor": 2
}
